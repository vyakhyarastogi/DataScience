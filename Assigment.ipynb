{
 "cells": [
  {
   "cell_type": "raw",
   "id": "60f7c7cd-194e-443c-8875-3aa486ed64d6",
   "metadata": {},
   "source": [
    "Q1. What is Statistics?"
   ]
  },
  {
   "cell_type": "raw",
   "id": "28da0a69-2069-4803-8b0a-b9cc263b3284",
   "metadata": {},
   "source": [
    "Statistics in Mathematics is the study and manipulation of data. It involves the analysis of numerical data, enabling the extraction of meaningful conclusions from the collected and analyzed data sets."
   ]
  },
  {
   "cell_type": "raw",
   "id": "6adc8ea2-d0b0-4b4a-b27a-d20be104c0a3",
   "metadata": {},
   "source": [
    "Q2. Define the different types of statistics and give an example of when each type might be used."
   ]
  },
  {
   "cell_type": "raw",
   "id": "b194e1fe-a384-4d95-8960-3246042b26d4",
   "metadata": {},
   "source": [
    "There are two types of statistics \n",
    "1)Descriptive Statistics\n",
    "2)Inferential Statistics\n",
    "Descriptive Statistics:Example:\"Calculating avg height of an students in entire college\"\n",
    "Inferential Statistics:Example:\"Are the height of students in classroom similar to what you aspect in the entire college\""
   ]
  },
  {
   "cell_type": "raw",
   "id": "2be5138c-5d23-4d75-b7f9-b1661b429ba2",
   "metadata": {},
   "source": [
    "Q3. What are the different types of data and how do they differ from each other? Provide an example of\n",
    "each type of data."
   ]
  },
  {
   "cell_type": "raw",
   "id": "ea44c0f8-1d73-4914-9d43-cf0ef42fb39e",
   "metadata": {},
   "source": [
    "There are two major types of data:\n",
    "1)Quantitative data\n",
    "2)Qualitative data\n",
    "Quantitative data:Example:weight,height,number of bank account,population\n",
    "\n",
    "Qualitative data:Gender,blood group,pincode,feedback"
   ]
  },
  {
   "cell_type": "raw",
   "id": "388ff811-6de9-42cb-af6c-a7607330782e",
   "metadata": {},
   "source": [
    "Q4. Categorise the following datasets with respect to quantitative and qualitative data types:\n",
    "(i) Grading in exam: A+, A, B+, B, C+, C, D, E\n",
    "(ii) Colour of mangoes: yellow, green, orange, red\n",
    "(iii) Height data of a class: [178.9, 179, 179.5, 176, 177.2, 178.3, 175.8,...]\n",
    "(iv) Number of mangoes exported by a farm: [500, 600, 478, 672, ...]"
   ]
  },
  {
   "cell_type": "raw",
   "id": "5f35b9a2-af5d-48be-8ecd-fbc587ad5578",
   "metadata": {},
   "source": [
    "1)Qualitative data\n",
    "2)Qualitative data\n",
    "3)Quantitative data\n",
    "4)Quantitative data"
   ]
  },
  {
   "cell_type": "raw",
   "id": "04324fff-88b1-41dd-8fc8-6251889de3a6",
   "metadata": {},
   "source": [
    "Q5. Explain the concept of levels of measurement and give an example of a variable for each level."
   ]
  },
  {
   "cell_type": "raw",
   "id": "6a3c0c4e-83d7-45bc-8a44-19f9f1edfb8c",
   "metadata": {},
   "source": [
    "Data can be classified as being on one of four scales: nominal, ordinal, interval or ratio. Each level of measurement has some important properties that are useful to know.\n",
    "\n",
    "Properties of Measurement Scales:\n",
    "\n",
    "1)Nominal Scale – Nominal variables can be placed into categories. These don’t have a numeric value and so cannot be added, subtracted, divided or multiplied. \n",
    "For example, gender is an example of a variable that is measured on a nominal scale. Individuals may be classified as “male” or “female”, but neither value represents more or less “gender” than the other.\n",
    "\n",
    "2)The ordinal scale contains things that you can place in order. It measures a variable in terms of magnitude, or rank. Ordinal scales tell us relative order, but give us no information regarding differences between the categories.\n",
    "For example, in a race If Ram takes first and Vidur takes second place, we do not know competition was close by how many seconds.\n",
    "\n",
    "3. Interval Scale –\n",
    "An interval scale has ordered numbers with meaningful divisions, the magnitude between the consecutive intervals are equal.\n",
    "For example, temperature on Fahrenheit/Celsius thermometer i.e. 90° are hotter than 45° and the difference between 10° and 30° are the same as the difference between 60° degrees and 80°.\n",
    "\n",
    "4)The ratio scale: of measurement is similar to the interval scale in that it also represents quantity and has equality of units with one major difference: zero is meaningful (no numbers exist below the zero).\n",
    "\n",
    "For example, in distance 10 miles is twice as long as 5 mile."
   ]
  },
  {
   "cell_type": "raw",
   "id": "629db0c8-697c-4dea-a174-a1a9546455cd",
   "metadata": {},
   "source": [
    "Q6. Why is it important to understand the level of measurement when analyzing data? Provide an\n",
    "example to illustrate your answer."
   ]
  },
  {
   "cell_type": "raw",
   "id": "c7d5283e-d39d-47ee-ba98-9615e7833be2",
   "metadata": {},
   "source": [
    " the level of measurement determines the type of statistical analysis that can be conducted, and, therefore, the type of conclusions that can be drawn from the research."
   ]
  },
  {
   "cell_type": "raw",
   "id": "8f69bcad-fe9e-4c2b-8583-f625f01daca6",
   "metadata": {},
   "source": [
    "Q7. How nominal data type is different from ordinal data type."
   ]
  },
  {
   "cell_type": "raw",
   "id": "8049f093-0c4e-4a4b-82d6-3c5d5182476e",
   "metadata": {},
   "source": [
    "Nominal data includes things which are not placed in order like gender,blood group,pincode\n",
    "Ordinal data includes things whicg are placed in order like feedback."
   ]
  },
  {
   "cell_type": "raw",
   "id": "25d26606-1389-4f09-8579-ae531bfa468a",
   "metadata": {},
   "source": [
    "Q8. Which type of plot can be used to display data in terms of range?"
   ]
  },
  {
   "cell_type": "raw",
   "id": "279f5d5b-a85f-462d-a508-9de159778740",
   "metadata": {},
   "source": [
    "Boxplots. Boxplots display data ranges for groups within a dataset. In boxplots, it equals the entire length of the whiskers for each group. The minimum and maximum values appear at the ends of the whiskers except when there are outliers."
   ]
  },
  {
   "cell_type": "raw",
   "id": "e22705c5-5b42-4740-b78c-451880bdb34d",
   "metadata": {},
   "source": [
    "Q9. Describe the difference between descriptive and inferential statistics. Give an example of each\n",
    "type of statistics and explain how they are used."
   ]
  },
  {
   "cell_type": "raw",
   "id": "b7219d49-a66a-4eb3-8b2f-5317b874ae5c",
   "metadata": {},
   "source": [
    "Decriptive statistics:uses data that provides a description of the population either through numerical calculation or graphs or tables.\n",
    "Example:\"Calculating avg height of an students in entire college\"\n",
    "\n",
    "Inferential Statistics:makes inferences and predictions about the population based on a sample data taken from the population.\n",
    "It generalizes a large dataset and appkies probabilites to draw a conclusion.\n",
    "\n",
    "Example:\"Are the height of students in classroom similar to what you aspect in the entire college\""
   ]
  },
  {
   "cell_type": "code",
   "execution_count": null,
   "id": "247ff175-56d9-47ab-8d19-177e4938ad5e",
   "metadata": {},
   "outputs": [],
   "source": [
    "Q10. What are some common measures of central tendency and variability used in statistics? Explain\n",
    "how each measure can be used to describe a dataset."
   ]
  }
 ],
 "metadata": {
  "kernelspec": {
   "display_name": "Python 3 (ipykernel)",
   "language": "python",
   "name": "python3"
  },
  "language_info": {
   "codemirror_mode": {
    "name": "ipython",
    "version": 3
   },
   "file_extension": ".py",
   "mimetype": "text/x-python",
   "name": "python",
   "nbconvert_exporter": "python",
   "pygments_lexer": "ipython3",
   "version": "3.10.8"
  }
 },
 "nbformat": 4,
 "nbformat_minor": 5
}
