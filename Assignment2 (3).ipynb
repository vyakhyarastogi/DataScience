{
 "cells": [
  {
   "cell_type": "raw",
   "id": "655971a3-0e33-4a05-ab26-593cceff9553",
   "metadata": {},
   "source": [
    "Q1. What are the three measures of central tendency?"
   ]
  },
  {
   "cell_type": "raw",
   "id": "ca2bd9a2-c25e-4ac0-be20-40293e240b2a",
   "metadata": {},
   "source": [
    "Mean,Median and Mode are three measures of central tendency"
   ]
  },
  {
   "cell_type": "raw",
   "id": "5e46d47b-ef4e-420b-b69b-98bc563e8721",
   "metadata": {},
   "source": [
    "Q3. Measure the three measures of central tendency for the given height data:\n",
    "[178,177,176,177,178.2,178,175,179,180,175,178.9,176.2,177,172.5,178,176.5]"
   ]
  },
  {
   "cell_type": "raw",
   "id": "bfb16fba-70b8-4fe2-b2f9-9e67d4bc20d6",
   "metadata": {},
   "source": [
    "1)mean:177.01875\n",
    "2)median:179\n",
    "3)mode:177"
   ]
  },
  {
   "cell_type": "raw",
   "id": "55a2bd3e-18f2-498c-935d-224ffb2ca54f",
   "metadata": {},
   "source": [
    "Q2. What is the difference between the mean, median, and mode? How are they used to measure the\n",
    "central tendency of a dataset?"
   ]
  },
  {
   "cell_type": "raw",
   "id": "5088949f-342e-4e43-af9b-e9b52f4c4dd3",
   "metadata": {},
   "source": [
    "mean:It is the avg\n",
    "median:mid of data set\n",
    "mode:maximum frequency of data in dataset"
   ]
  },
  {
   "cell_type": "raw",
   "id": "62df3594-c42d-42f6-a660-00107540c2a5",
   "metadata": {},
   "source": [
    "Q4. Find the standard deviation for the given data:\n",
    "[178,177,176,177,178.2,178,175,179,180,175,178.9,176.2,177,172.5,178,176.5]"
   ]
  },
  {
   "cell_type": "raw",
   "id": "e037aa53-2d75-4042-ad30-8b1f8444eecc",
   "metadata": {},
   "source": [
    "2.18794"
   ]
  },
  {
   "cell_type": "raw",
   "id": "6f9395d9-15d5-4860-b147-614ab4bbbe62",
   "metadata": {},
   "source": [
    "Q5. How are measures of dispersion such as range, variance, and standard deviation used to describe\n",
    "the spread of a dataset? Provide an example."
   ]
  },
  {
   "cell_type": "raw",
   "id": "5f698363-2e6f-4864-ad0a-23b30bf23f7a",
   "metadata": {},
   "source": [
    "These measures provide insights into how much the data points differ from each other and from the central tendency (mean or median) of the dataset.\n",
    "\n",
    "Range=Maximum value−Minimum value\n",
    "\n",
    "Variance: It gives us an idea of squared deviation how much the data points differ from the mean on average.\n",
    "\n",
    "Standard deviation:provides a measure of the average distance of each data point from the mean. "
   ]
  },
  {
   "cell_type": "raw",
   "id": "4c7afb86-0404-4ae5-914d-455b456e322c",
   "metadata": {},
   "source": [
    "Q6. What is a Venn diagram?"
   ]
  },
  {
   "cell_type": "raw",
   "id": "0fb7cffb-4592-4881-bf69-27cba5ca5202",
   "metadata": {},
   "source": [
    "Venn diagram is a graphical representation of set."
   ]
  },
  {
   "cell_type": "raw",
   "id": "65be3209-7e78-4dd8-bb9f-f37a989cd4e7",
   "metadata": {},
   "source": [
    "Q7. For the two given sets A = (2,3,4,5,6,7) & B = (0,2,6,8,10). Find:\n",
    "(i) A B\n",
    "(ii) A ⋃ B"
   ]
  },
  {
   "cell_type": "raw",
   "id": "9d9dcc9d-2bd9-4ca9-9741-55235cfac9dc",
   "metadata": {},
   "source": [
    "1)(2,6)\n",
    "2)(0,2,3,4,5,6,7,8,10)"
   ]
  },
  {
   "cell_type": "raw",
   "id": "60801977-e837-4aa5-8d7a-525a15aeec15",
   "metadata": {},
   "source": [
    "Q8. What do you understand about skewness in data?"
   ]
  },
  {
   "cell_type": "raw",
   "id": "c3b56855-d9e0-4ffc-8676-95c1985363ae",
   "metadata": {},
   "source": [
    "Skewness is a statistical measure that describes the asymmetry or lack of symmetry in the distribution of data. It indicates whether the data points are more concentrated on one side of the mean than the other. Skewness can be positive, negative, or zero, reflecting different types of distributions:\n",
    "1)Positive skewness(right skewness)\n",
    "2)Negative skewness(left skewness)"
   ]
  },
  {
   "cell_type": "raw",
   "id": "21df489a-0844-46f6-9f51-fe418dcab6f1",
   "metadata": {},
   "source": [
    "Q9. If a data is right skewed then what will be the position of median with respect to mean?"
   ]
  },
  {
   "cell_type": "raw",
   "id": "3baaec25-daac-4b14-9440-2f00e5594221",
   "metadata": {},
   "source": [
    "mean is at left side of median that is mean>=median\n"
   ]
  },
  {
   "cell_type": "raw",
   "id": "2fe62d67-556e-4782-a184-60db83d7a506",
   "metadata": {},
   "source": [
    "Q10. Explain the difference between covariance and correlation. How are these measures used in\n",
    "statistical analysis?\n"
   ]
  },
  {
   "cell_type": "raw",
   "id": "ba705ac8-913d-4ca5-bcd2-2b19d08416ea",
   "metadata": {},
   "source": [
    "\n",
    "Covariance and correlation are both measures used in statistics to describe the relationship between two variables.\n",
    "\n",
    "Covariance is a measure of the joint variability of two random variables. It indicates the direction of the linear relationship between the variables.\n",
    "\n",
    "Covariance is used in portfolio theory in finance to determine how two assets move together.\n",
    "\n",
    "A positive covariance indicates that the two variables tend to move in the same direction.\n",
    "A negative covariance indicates that the two variables tend to move in opposite directions.\n",
    "A covariance close to zero suggests no linear relationship between the variables.\n",
    "\n",
    "Correlation is a standardized measure of the strength and direction of the linear relationship between two variables. It is dimensionless and takes on a value between -1 and 1.\n",
    "\n",
    "Correlation is widely used to identify and quantify the strength of relationships between variables.\n",
    "It's used in various fields like finance, economics, psychology, and social sciences to understand how variables are related.\n",
    "Correlation analysis helps in feature selection and data reduction in machine learning and data mining.\n",
    "\n",
    "r=1: Perfect positive linear relationship.\n",
    "r=−1: Perfect negative linear relationship.\n",
    "r=0: No linear relationship.\n",
    "The closer the value of \n",
    "r is to 1 or -1, the stronger the linear relationship.\n"
   ]
  },
  {
   "cell_type": "raw",
   "id": "4e7e1d9f-6e9d-42f0-98d2-4c900d9508ef",
   "metadata": {},
   "source": [
    "Q11. What is the formula for calculating the sample mean? Provide an example calculation for a\n",
    "dataset."
   ]
  },
  {
   "cell_type": "raw",
   "id": "e8fb5cd2-df63-431a-b868-993b6f3751b7",
   "metadata": {},
   "source": [
    "sample mean is also an average\n",
    "ex:x=1,2,3,4,5,6,7\n",
    "sample data:1,2,3\n",
    "mean=(1+2+3)/3=2"
   ]
  },
  {
   "cell_type": "raw",
   "id": "ed499fb3-31c3-4cf3-90e7-5fb1f075d79f",
   "metadata": {},
   "source": [
    "Q12. For a normal distribution data what is the relationship between its measure of central tendency?"
   ]
  },
  {
   "cell_type": "raw",
   "id": "3270b6af-7e96-41c6-b0dd-800b32d7e204",
   "metadata": {},
   "source": [
    "\n",
    "For a normal distribution, the measures of central tendency—mean, median, and mode—are all equal. This characteristic is due to the symmetry and specific properties of the normal distribution."
   ]
  },
  {
   "cell_type": "raw",
   "id": "37a212b8-6e03-47c9-8258-d87412d9d7ce",
   "metadata": {},
   "source": [
    "Q13. How is covariance different from correlation?"
   ]
  },
  {
   "cell_type": "raw",
   "id": "6ac7f08a-ce10-4d90-b810-6bd5af68f30d",
   "metadata": {},
   "source": [
    "refer soln of q10"
   ]
  },
  {
   "cell_type": "raw",
   "id": "795d2612-4be0-4066-bda2-e3346d109b5e",
   "metadata": {},
   "source": [
    "Q14. How do outliers affect measures of central tendency and dispersion? Provide an example."
   ]
  },
  {
   "cell_type": "raw",
   "id": "b21c2eee-362b-4592-a4ea-520a00d86288",
   "metadata": {},
   "source": [
    "\n",
    "Outliers, which are data points that deviate significantly from other observations in a dataset, can have a substantial impact on measures of central tendency (mean, median, and mode) and dispersion (range, variance, standard deviation, and interquartile range). Here’s how outliers affect these measures along with an example:\n",
    "\n",
    "Measures of Central Tendency\n",
    "Mean:\n",
    "\n",
    "Effect: The mean is highly sensitive to outliers because it is calculated by averaging all data points. An outlier can significantly increase or decrease the mean.\n",
    "Example: Consider the dataset \n",
    "[10,12,14,15,100]. The mean without the outlier (100) would be \n",
    "(10+12+14+15)/4=12.75. Including the outlier, the mean becomes \n",
    "(10+12+14+15+100)/5=30.2, which is much higher due to the outlier.\n",
    "Median:\n",
    "\n",
    "Effect: The median is less sensitive to outliers because it depends only on the middle value of a sorted dataset.\n",
    "Example: Using the same dataset \n",
    "\n",
    "[10,12,14,15,100], the median without the outlier (using \n",
    "\n",
    "[10,12,14,15]) is \n",
    "\n",
    "(12+14)/2=13. Including the outlier, the median remains 14 because it is the middle value of the sorted dataset.\n",
    "Mode:\n",
    "\n",
    "Effect: The mode is typically not affected by outliers unless the outlier itself is the most frequent value.\n",
    "Example: In the dataset \n",
    "\n",
    "[10,12,14,15,100], if none of the values repeat, the mode is not well-defined. If the outlier (100) repeats more frequently, then 100 would be the mode.\n",
    "\n",
    "Both variance and SD are sensitive towards outliers.\n"
   ]
  },
  {
   "cell_type": "code",
   "execution_count": null,
   "id": "6c85ffdb-f8bf-4bd3-97b1-772c2c69f659",
   "metadata": {},
   "outputs": [],
   "source": []
  }
 ],
 "metadata": {
  "kernelspec": {
   "display_name": "Python 3 (ipykernel)",
   "language": "python",
   "name": "python3"
  },
  "language_info": {
   "codemirror_mode": {
    "name": "ipython",
    "version": 3
   },
   "file_extension": ".py",
   "mimetype": "text/x-python",
   "name": "python",
   "nbconvert_exporter": "python",
   "pygments_lexer": "ipython3",
   "version": "3.10.8"
  }
 },
 "nbformat": 4,
 "nbformat_minor": 5
}
