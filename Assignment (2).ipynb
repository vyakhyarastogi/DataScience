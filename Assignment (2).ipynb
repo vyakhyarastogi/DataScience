{
 "cells": [
  {
   "cell_type": "raw",
   "id": "c367537b-1fe2-410c-ac02-89155bb446c1",
   "metadata": {},
   "source": [
    "Q1 What is an Exception in python ? Write the difference between Exceptions and syntax errors."
   ]
  },
  {
   "cell_type": "raw",
   "id": "78e4ebde-45cd-41cc-9493-2036bbde1c10",
   "metadata": {},
   "source": [
    "exceptions are raised when some internal events occur which changes the normal flow of the program. \n",
    "\n",
    "Syntax errors:\n",
    "When the proper syntax of the language is not followed then a syntax error is thrown.\n"
   ]
  },
  {
   "cell_type": "code",
   "execution_count": 1,
   "id": "38ac3a8f-05f4-40dc-b97f-6ffccc53d606",
   "metadata": {},
   "outputs": [
    {
     "ename": "SyntaxError",
     "evalue": "expected ':' (2481329871.py, line 3)",
     "output_type": "error",
     "traceback": [
      "\u001b[0;36m  Cell \u001b[0;32mIn[1], line 3\u001b[0;36m\u001b[0m\n\u001b[0;31m    if(amount>2999)\u001b[0m\n\u001b[0m                    ^\u001b[0m\n\u001b[0;31mSyntaxError\u001b[0m\u001b[0;31m:\u001b[0m expected ':'\n"
     ]
    }
   ],
   "source": [
    "#Example of syntax error\n",
    "amount=10000\n",
    "if(amount>2999) \n",
    "    print(\"You are eligible to purchase Dsa Self Paced\") \n",
    "     "
   ]
  },
  {
   "cell_type": "raw",
   "id": "3e505b09-a021-434d-81fd-480ea1883d59",
   "metadata": {},
   "source": [
    "When in the runtime an error that occurs after passing the syntax test is called exception or logical type. For example, when we divide any number by zero then the ZeroDivisionError exception is raised, or when we import a module that does not exist then ImportError is raised."
   ]
  },
  {
   "cell_type": "code",
   "execution_count": 2,
   "id": "5684db30-6c02-44c9-9a22-89e591d65b7d",
   "metadata": {},
   "outputs": [
    {
     "ename": "ZeroDivisionError",
     "evalue": "division by zero",
     "output_type": "error",
     "traceback": [
      "\u001b[0;31m---------------------------------------------------------------------------\u001b[0m",
      "\u001b[0;31mZeroDivisionError\u001b[0m                         Traceback (most recent call last)",
      "Cell \u001b[0;32mIn[2], line 5\u001b[0m\n\u001b[1;32m      2\u001b[0m marks \u001b[38;5;241m=\u001b[39m \u001b[38;5;241m10000\u001b[39m\n\u001b[1;32m      4\u001b[0m \u001b[38;5;66;03m# perform division with 0 \u001b[39;00m\n\u001b[0;32m----> 5\u001b[0m a \u001b[38;5;241m=\u001b[39m \u001b[43mmarks\u001b[49m\u001b[43m \u001b[49m\u001b[38;5;241;43m/\u001b[39;49m\u001b[43m \u001b[49m\u001b[38;5;241;43m0\u001b[39;49m\n\u001b[1;32m      6\u001b[0m \u001b[38;5;28mprint\u001b[39m(a) \n",
      "\u001b[0;31mZeroDivisionError\u001b[0m: division by zero"
     ]
    }
   ],
   "source": [
    "#Example of Exceptions\n",
    "marks = 10000\n",
    "  \n",
    "# perform division with 0 \n",
    "a = marks / 0\n",
    "print(a) \n"
   ]
  },
  {
   "cell_type": "raw",
   "id": "0aad55c7-a86f-44c9-ad21-575364950adf",
   "metadata": {},
   "source": [
    "Q2. What happen when exceptions are not handled? Explain with examples?"
   ]
  },
  {
   "cell_type": "raw",
   "id": "5ee6b3cb-87ce-4e66-8880-f13e0af3d3bb",
   "metadata": {},
   "source": [
    "Program execution will stop if exceptions are not handled.\n",
    "\n"
   ]
  },
  {
   "cell_type": "code",
   "execution_count": 3,
   "id": "e4f83b77-cb95-48c6-9616-7646d5bfb81f",
   "metadata": {},
   "outputs": [
    {
     "ename": "SyntaxError",
     "evalue": "expected 'except' or 'finally' block (3795492205.py, line 3)",
     "output_type": "error",
     "traceback": [
      "\u001b[0;36m  Cell \u001b[0;32mIn[3], line 3\u001b[0;36m\u001b[0m\n\u001b[0;31m    print(\"hello,Program execution has been stopped!\")\u001b[0m\n\u001b[0m    ^\u001b[0m\n\u001b[0;31mSyntaxError\u001b[0m\u001b[0;31m:\u001b[0m expected 'except' or 'finally' block\n"
     ]
    }
   ],
   "source": [
    "try:\n",
    "    10/0\n",
    "print(\"hello,Program execution has been stopped!\")"
   ]
  },
  {
   "cell_type": "code",
   "execution_count": 4,
   "id": "d47a0197-3d70-4d49-bbc0-bdba084aa232",
   "metadata": {},
   "outputs": [
    {
     "name": "stdout",
     "output_type": "stream",
     "text": [
      "division by zero\n",
      "hello,Program execution has not stopped as exception block occured!\n"
     ]
    }
   ],
   "source": [
    "try:\n",
    "    10/0\n",
    "except ZeroDivisionError as e:\n",
    "    print(e)\n",
    "print(\"hello,Program execution has not stopped as exception block occured!\")"
   ]
  },
  {
   "cell_type": "raw",
   "id": "d7c39ed2-c0d9-4062-9b09-cf8d590f8658",
   "metadata": {},
   "source": [
    "Q3.Which python statements are used to catch and handle exceptions?Explain with examples>?"
   ]
  },
  {
   "cell_type": "code",
   "execution_count": 7,
   "id": "4083a7b0-07c6-4baf-a25a-bd67cb0e3771",
   "metadata": {},
   "outputs": [],
   "source": [
    "try:\n",
    "    with open(\"test.txt\",\"r\") as f:\n",
    "        f.read()\n",
    "except FileNotFoundError as e:\n",
    "    print(\"handled file error\",e)\n",
    "finally:\n",
    "    f.close()"
   ]
  },
  {
   "cell_type": "raw",
   "id": "d6c71e99-52a1-4fdb-987d-814c0d2e9a3b",
   "metadata": {},
   "source": [
    "Q4)Explain with an example\n",
    "a)try and else\n",
    "b.finally\n",
    "c)raise\n"
   ]
  },
  {
   "cell_type": "code",
   "execution_count": 8,
   "id": "8aaef361-6192-4906-8317-8f7ea31a4c62",
   "metadata": {},
   "outputs": [
    {
     "name": "stdout",
     "output_type": "stream",
     "text": [
      "division by zero\n",
      "This will alaways executed\n"
     ]
    }
   ],
   "source": [
    "try:\n",
    "    a=10/0\n",
    "except ZeroDivisionError as e:\n",
    "    print(e)\n",
    "else:\n",
    "    print(\"This will executed if except block will executed\")\n",
    "finally:\n",
    "    print(\"This will alaways executed\")"
   ]
  },
  {
   "cell_type": "code",
   "execution_count": 9,
   "id": "7b4a321a-0ff0-4c4e-847c-447dbe81b736",
   "metadata": {},
   "outputs": [],
   "source": [
    "#raise"
   ]
  },
  {
   "cell_type": "code",
   "execution_count": 19,
   "id": "6fa82de1-1062-4860-8674-c493f838d9bc",
   "metadata": {},
   "outputs": [
    {
     "name": "stdin",
     "output_type": "stream",
     "text": [
      "Enter a number:  0\n"
     ]
    },
    {
     "name": "stdout",
     "output_type": "stream",
     "text": [
      "Input value is zero, try again!\n"
     ]
    }
   ],
   "source": [
    "#define Python user-defined exceptions\n",
    "class Error(Exception):\n",
    "    \"\"\"Base class for other exceptions\"\"\"\n",
    "    pass\n",
    " \n",
    "class zerodivision(Error):\n",
    "    \"\"\"Raised when the input value is zero\"\"\"\n",
    "    pass\n",
    "\n",
    "class noError(Error):\n",
    "    pass\n",
    " \n",
    "try:\n",
    "    i_num = int(input(\"Enter a number: \"))\n",
    "    if i_num == 0:\n",
    "        raise zerodivision\n",
    "    else:\n",
    "        raise noError\n",
    "except zerodivision:\n",
    "    print(\"Input value is zero, try again!\")\n",
    "except noError:\n",
    "    print(\"go on,no error\")\n",
    "    print()"
   ]
  },
  {
   "cell_type": "raw",
   "id": "a0909aeb-935a-4df5-ae6b-1327b010fbb1",
   "metadata": {},
   "source": [
    "Q5)what are custom exceptions in python?Why do we need custom exceptions?Explain with examples?"
   ]
  },
  {
   "cell_type": "raw",
   "id": "f02cec61-9016-4c6a-b98e-4fe4ec86aae3",
   "metadata": {},
   "source": [
    "Custom exceptions are helpful in many situations. They allow you to define your own error conditions and handle them in a more specific and meaningful way. For example, let's say you are writing a program that reads data from a file. If the file is not found, Python will raise a FileNotFoundError ."
   ]
  },
  {
   "cell_type": "code",
   "execution_count": 20,
   "id": "e147d537-857b-4115-a234-52f2656562b8",
   "metadata": {},
   "outputs": [
    {
     "name": "stdin",
     "output_type": "stream",
     "text": [
      "Enter a number:  90\n"
     ]
    },
    {
     "name": "stdout",
     "output_type": "stream",
     "text": [
      "go on,no error\n",
      "\n"
     ]
    }
   ],
   "source": [
    "#define Python user-defined exceptions\n",
    "class Error(Exception):\n",
    "    \"\"\"Base class for other exceptions\"\"\"\n",
    "    pass\n",
    " \n",
    "class zerodivision(Error):\n",
    "    \"\"\"Raised when the input value is zero\"\"\"\n",
    "    pass\n",
    "\n",
    "class noError(Error):\n",
    "    pass\n",
    " \n",
    "try:\n",
    "    i_num = int(input(\"Enter a number: \"))\n",
    "    if i_num == 0:\n",
    "        raise zerodivision\n",
    "    else:\n",
    "        raise noError\n",
    "except zerodivision:\n",
    "    print(\"Input value is zero, try again!\")\n",
    "except noError:\n",
    "    print(\"go on,no error\")\n",
    "    print()"
   ]
  },
  {
   "cell_type": "raw",
   "id": "54d479e6-f418-49e3-896e-c4e1bb2751dc",
   "metadata": {},
   "source": [
    "Q6) Create custom exception class.Use this class to handle an exception"
   ]
  },
  {
   "cell_type": "code",
   "execution_count": 21,
   "id": "52f48909-97f9-4e59-8c56-0202bc3a0b73",
   "metadata": {},
   "outputs": [
    {
     "name": "stdin",
     "output_type": "stream",
     "text": [
      "Enter a number:  90\n"
     ]
    },
    {
     "name": "stdout",
     "output_type": "stream",
     "text": [
      "go on,no error\n",
      "\n"
     ]
    }
   ],
   "source": [
    "#define Python user-defined exceptions\n",
    "class Error(Exception):\n",
    "    \"\"\"Base class for other exceptions\"\"\"\n",
    "    pass\n",
    " \n",
    "class zerodivision(Error):\n",
    "    \"\"\"Raised when the input value is zero\"\"\"\n",
    "    pass\n",
    "\n",
    "class noError(Error):\n",
    "    pass\n",
    " \n",
    "try:\n",
    "    i_num = int(input(\"Enter a number: \"))\n",
    "    if i_num == 0:\n",
    "        raise zerodivision\n",
    "    else:\n",
    "        raise noError\n",
    "except zerodivision:\n",
    "    print(\"Input value is zero, try again!\")\n",
    "except noError:\n",
    "    print(\"go on,no error\")\n",
    "    print()"
   ]
  },
  {
   "cell_type": "code",
   "execution_count": null,
   "id": "4cdf2f57-69fb-439a-8f84-25dbf3f708fa",
   "metadata": {},
   "outputs": [],
   "source": []
  }
 ],
 "metadata": {
  "kernelspec": {
   "display_name": "Python 3 (ipykernel)",
   "language": "python",
   "name": "python3"
  },
  "language_info": {
   "codemirror_mode": {
    "name": "ipython",
    "version": 3
   },
   "file_extension": ".py",
   "mimetype": "text/x-python",
   "name": "python",
   "nbconvert_exporter": "python",
   "pygments_lexer": "ipython3",
   "version": "3.10.8"
  }
 },
 "nbformat": 4,
 "nbformat_minor": 5
}
